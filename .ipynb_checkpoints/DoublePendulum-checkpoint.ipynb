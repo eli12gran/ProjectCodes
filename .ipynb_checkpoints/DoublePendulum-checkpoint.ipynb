{
 "cells": [
  {
   "cell_type": "markdown",
   "id": "0ff5a612-0b52-4d56-91c2-fdc50392bd68",
   "metadata": {},
   "source": [
    "\n",
    "# **Double Pendulum**"
   ]
  },
  {
   "cell_type": "code",
   "execution_count": 1,
   "id": "c51ec08c-2703-4029-bcf9-849cd03fde50",
   "metadata": {},
   "outputs": [
    {
     "data": {
      "text/html": [
       "\n",
       "<iframe src=\"simulaciones/DoublePendulum.html\" width=\"800\" height=\"400\"></iframe>\n"
      ],
      "text/plain": [
       "<IPython.core.display.HTML object>"
      ]
     },
     "metadata": {},
     "output_type": "display_data"
    }
   ],
   "source": [
    "%%html\n",
    "\n",
    "<iframe src=\"simulaciones/DoublePendulum.html\" width=\"800\" height=\"400\"></iframe>"
   ]
  },
  {
   "cell_type": "code",
   "execution_count": null,
   "id": "198f3517-7d19-4f91-9145-41dad749bc65",
   "metadata": {},
   "outputs": [],
   "source": [
    " "
   ]
  }
 ],
 "metadata": {
  "kernelspec": {
   "display_name": "Python 3 (ipykernel)",
   "language": "python",
   "name": "python3"
  },
  "language_info": {
   "codemirror_mode": {
    "name": "ipython",
    "version": 3
   },
   "file_extension": ".py",
   "mimetype": "text/x-python",
   "name": "python",
   "nbconvert_exporter": "python",
   "pygments_lexer": "ipython3",
   "version": "3.11.5"
  }
 },
 "nbformat": 4,
 "nbformat_minor": 5
}
